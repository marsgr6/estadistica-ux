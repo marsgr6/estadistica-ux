{
 "cells": [
  {
   "cell_type": "markdown",
   "id": "48e97bad",
   "metadata": {},
   "source": [
    "### One-way ANOVA\n",
    "\n",
    "El análisis de varianza de un solo factor, o ANOVA de un solo factor, es una técnica estadística utilizada para determinar si hay diferencias significativas entre las medias de tres o más grupos independientes. En otras palabras, se utiliza para comparar las medias de dos o más grupos para determinar si al menos uno de los grupos difiere significativamente de los demás. Esta técnica es útil cuando se tienen múltiples grupos y se desea determinar si al menos uno de ellos se comporta de manera significativamente diferente en relación con la variable de interés.\n",
    "\n",
    "El análisis de varianza de un solo factor se lleva a cabo de acuerdo a los siguientes pasos:\n",
    "\n",
    "1. **Formulación de hipótesis**:\n",
    "   - Hipótesis nula (H0): $\\mu_1 = \\mu_2 = \\mu_3 = \\dots = \\mu_k$, donde $\\mu_i$ es la media del i-ésimo grupo.\n",
    "   - Hipótesis alternativa (H1): Al menos una de las medias es diferente de las demás.\n",
    "\n",
    "2. **Recopilación de datos**: Se recopilan los datos $x_{ij}$, donde $i$ denota el grupo y $j$ denota la observación dentro del grupo.\n",
    "\n",
    "3. **Verificación de supuestos**: Se verifican los supuestos de normalidad y homogeneidad de varianzas.\n",
    "\n",
    "4. **Cálculo de la suma de cuadrados total (SCT)**:\n",
    "   $$SCT = \\sum_{i=1}^{k} \\sum_{j=1}^{n_i} (x_{ij} - \\bar{x}_{\\cdot\\cdot})^2$$\n",
    "   Donde $n_i$ es el tamaño del grupo $i$ y $\\bar{x}_{\\cdot\\cdot}$ es la media global.\n",
    "\n",
    "5. **Cálculo de la suma de cuadrados entre grupos (SCG)**:\n",
    "   $$SCG = \\sum_{i=1}^{k} n_i (\\bar{x}_{i\\cdot} - \\bar{x}_{\\cdot\\cdot})^2$$\n",
    "   Donde $\\bar{x}_{i\\cdot}$ es la media del grupo $i$.\n",
    "\n",
    "6. **Cálculo de la suma de cuadrados dentro de grupos (SCW)**:\n",
    "   $$SCW = SCT - SCG$$\n",
    "\n",
    "7. **Cálculo de grados de libertad (GL)**:\n",
    "   - Grados de libertad entre grupos: $GL_{\\text{entre}} = k - 1$\n",
    "   - Grados de libertad dentro de grupos: $GL_{\\text{dentro}} = N - k$, donde $N$ es el número total de observaciones.\n",
    "\n",
    "8. **Cálculo de las medias cuadráticas (MC)**:\n",
    "   - Media cuadrática entre grupos: $MC_{\\text{entre}} = \\frac{SCG}{GL_{\\text{entre}}}$\n",
    "   - Media cuadrática dentro de grupos: $MC_{\\text{dentro}} = \\frac{SCW}{GL_{\\text{dentro}}}$\n",
    "\n",
    "9. **Obtención de estadísticas de prueba F**:\n",
    "   - Estadística de prueba F: $F = \\frac{MC_{\\text{entre}}}{MC_{\\text{dentro}}}$\n",
    "\n",
    "10. **Toma de decisiones**: Se compara el valor de $F$ con el valor crítico de la distribución F para determinar si se rechaza o no $H0$.\n",
    "\n",
    "11. **Interpretación de resultados**: Si el valor de $F$ es significativo, se concluye que al menos una de las medias es diferente. Se realiza un análisis post-hoc para identificar cuáles grupos difieren entre sí.\n",
    "\n",
    "Este proceso proporciona información sobre si existen diferencias significativas entre los grupos y cuáles podrían ser esas diferencias.\n",
    "\n",
    "### Ejemplo: Uso de redes sociales\n",
    "\n",
    "Vamos a realizar un análisis de varianza de un solo factor (ANOVA) para investigar si existen diferencias significativas en el tiempo diario de uso de redes sociales entre diferentes grupos raciales. \n",
    "\n",
    "Los datos proporcionados contienen los minutos (`MINUTES`) de uso de redes sociales por día se registran junto con la pertenencia al grupo racial (`RACE`). "
   ]
  },
  {
   "cell_type": "code",
   "execution_count": 3,
   "id": "e77c9ba6-3772-4dee-8de6-39a6471ebd3e",
   "metadata": {},
   "outputs": [],
   "source": [
    "import numpy as np\n",
    "import pandas as pd\n",
    "import matplotlib.pyplot as plt"
   ]
  },
  {
   "cell_type": "code",
   "execution_count": 4,
   "id": "2de0469a",
   "metadata": {},
   "outputs": [
    {
     "data": {
      "text/html": [
       "<div>\n",
       "<style scoped>\n",
       "    .dataframe tbody tr th:only-of-type {\n",
       "        vertical-align: middle;\n",
       "    }\n",
       "\n",
       "    .dataframe tbody tr th {\n",
       "        vertical-align: top;\n",
       "    }\n",
       "\n",
       "    .dataframe thead th {\n",
       "        text-align: right;\n",
       "    }\n",
       "</style>\n",
       "<table border=\"1\" class=\"dataframe\">\n",
       "  <thead>\n",
       "    <tr style=\"text-align: right;\">\n",
       "      <th></th>\n",
       "      <th>AGE</th>\n",
       "      <th>SEX</th>\n",
       "      <th>RACE</th>\n",
       "      <th>MARST</th>\n",
       "      <th>EDUC</th>\n",
       "      <th>MINUTES</th>\n",
       "      <th>EDUCNUM</th>\n",
       "    </tr>\n",
       "  </thead>\n",
       "  <tbody>\n",
       "    <tr>\n",
       "      <th>0</th>\n",
       "      <td>25</td>\n",
       "      <td>Male</td>\n",
       "      <td>White</td>\n",
       "      <td>Single</td>\n",
       "      <td>High School Degree</td>\n",
       "      <td>40</td>\n",
       "      <td>1</td>\n",
       "    </tr>\n",
       "    <tr>\n",
       "      <th>1</th>\n",
       "      <td>65</td>\n",
       "      <td>Female</td>\n",
       "      <td>White</td>\n",
       "      <td>Separated/Divorced</td>\n",
       "      <td>Some College</td>\n",
       "      <td>36</td>\n",
       "      <td>2</td>\n",
       "    </tr>\n",
       "    <tr>\n",
       "      <th>2</th>\n",
       "      <td>56</td>\n",
       "      <td>Male</td>\n",
       "      <td>White</td>\n",
       "      <td>Single</td>\n",
       "      <td>Four Year Degree</td>\n",
       "      <td>40</td>\n",
       "      <td>3</td>\n",
       "    </tr>\n",
       "    <tr>\n",
       "      <th>3</th>\n",
       "      <td>53</td>\n",
       "      <td>Female</td>\n",
       "      <td>White</td>\n",
       "      <td>Married</td>\n",
       "      <td>Some College</td>\n",
       "      <td>37</td>\n",
       "      <td>2</td>\n",
       "    </tr>\n",
       "    <tr>\n",
       "      <th>4</th>\n",
       "      <td>51</td>\n",
       "      <td>Female</td>\n",
       "      <td>White</td>\n",
       "      <td>Married</td>\n",
       "      <td>Some College</td>\n",
       "      <td>40</td>\n",
       "      <td>2</td>\n",
       "    </tr>\n",
       "  </tbody>\n",
       "</table>\n",
       "</div>"
      ],
      "text/plain": [
       "   AGE     SEX   RACE               MARST                EDUC  MINUTES  \\\n",
       "0   25    Male  White              Single  High School Degree       40   \n",
       "1   65  Female  White  Separated/Divorced        Some College       36   \n",
       "2   56    Male  White              Single    Four Year Degree       40   \n",
       "3   53  Female  White             Married        Some College       37   \n",
       "4   51  Female  White             Married        Some College       40   \n",
       "\n",
       "   EDUCNUM  \n",
       "0        1  \n",
       "1        2  \n",
       "2        3  \n",
       "3        2  \n",
       "4        2  "
      ]
     },
     "execution_count": 4,
     "metadata": {},
     "output_type": "execute_result"
    }
   ],
   "source": [
    "social_media_usage = pd.read_csv(\"https://raw.githubusercontent.com/marsgr6/estadistica-ux/main/data/sm_usage.csv\")\n",
    "social_media_usage.head()"
   ]
  },
  {
   "cell_type": "markdown",
   "id": "d2217107-ce1e-49f0-b8a5-2e1f207a026d",
   "metadata": {},
   "source": [
    "La línea de código `social_media_usage.groupby('RACE').describe()['MINUTES']` realiza varias operaciones utilizando el método `groupby` en un DataFrame llamado `social_media_usage`. \n",
    "\n",
    "Aquí está la explicación de cada parte de la línea:\n",
    "\n",
    "1. `social_media_usage.groupby('RACE')`: Esto agrupa los datos en el DataFrame `social_media_usage` por los valores únicos en la columna 'RACE'. Es decir, se están agrupando las filas del DataFrame según los diferentes grupos raciales presentes en la columna 'RACE'.\n",
    "\n",
    "2. `.describe()`: Este método genera estadísticas descriptivas para cada grupo creado por la operación `groupby`. Estadísticas descriptivas como la media, la desviación estándar, el mínimo, el máximo y los cuartiles se calculan para cada grupo.\n",
    "\n",
    "3. `['MINUTES']`: Finalmente, se selecciona la columna 'MINUTES' del resultado de la operación `describe()`. Esto devuelve un resumen de estadísticas descriptivas específicamente para la columna 'MINUTES' para cada grupo definido por los valores únicos en la columna 'RACE'.\n",
    "\n",
    "En resumen, la línea de código proporcionada agrupa los datos por los diferentes grupos raciales, calcula estadísticas descriptivas para la columna 'MINUTES' dentro de cada grupo y devuelve este resumen de estadísticas descriptivas para los minutos de uso de redes sociales para cada grupo racial."
   ]
  },
  {
   "cell_type": "code",
   "execution_count": 5,
   "id": "8e0f8ac4-e15f-4886-b059-8c457de7f399",
   "metadata": {},
   "outputs": [
    {
     "data": {
      "text/html": [
       "<div>\n",
       "<style scoped>\n",
       "    .dataframe tbody tr th:only-of-type {\n",
       "        vertical-align: middle;\n",
       "    }\n",
       "\n",
       "    .dataframe tbody tr th {\n",
       "        vertical-align: top;\n",
       "    }\n",
       "\n",
       "    .dataframe thead th {\n",
       "        text-align: right;\n",
       "    }\n",
       "</style>\n",
       "<table border=\"1\" class=\"dataframe\">\n",
       "  <thead>\n",
       "    <tr style=\"text-align: right;\">\n",
       "      <th></th>\n",
       "      <th>count</th>\n",
       "      <th>mean</th>\n",
       "      <th>std</th>\n",
       "      <th>min</th>\n",
       "      <th>25%</th>\n",
       "      <th>50%</th>\n",
       "      <th>75%</th>\n",
       "      <th>max</th>\n",
       "    </tr>\n",
       "    <tr>\n",
       "      <th>RACE</th>\n",
       "      <th></th>\n",
       "      <th></th>\n",
       "      <th></th>\n",
       "      <th></th>\n",
       "      <th></th>\n",
       "      <th></th>\n",
       "      <th></th>\n",
       "      <th></th>\n",
       "    </tr>\n",
       "  </thead>\n",
       "  <tbody>\n",
       "    <tr>\n",
       "      <th>American Indian/Aleut/Eskimo</th>\n",
       "      <td>655.0</td>\n",
       "      <td>39.444275</td>\n",
       "      <td>10.570697</td>\n",
       "      <td>0.0</td>\n",
       "      <td>40.0</td>\n",
       "      <td>40.0</td>\n",
       "      <td>40.00</td>\n",
       "      <td>92.0</td>\n",
       "    </tr>\n",
       "    <tr>\n",
       "      <th>Asian/Pacific Islander</th>\n",
       "      <td>4043.0</td>\n",
       "      <td>40.402671</td>\n",
       "      <td>10.441899</td>\n",
       "      <td>0.0</td>\n",
       "      <td>40.0</td>\n",
       "      <td>40.0</td>\n",
       "      <td>40.00</td>\n",
       "      <td>110.0</td>\n",
       "    </tr>\n",
       "    <tr>\n",
       "      <th>Black</th>\n",
       "      <td>5546.0</td>\n",
       "      <td>40.088172</td>\n",
       "      <td>9.876312</td>\n",
       "      <td>0.0</td>\n",
       "      <td>40.0</td>\n",
       "      <td>40.0</td>\n",
       "      <td>40.00</td>\n",
       "      <td>100.0</td>\n",
       "    </tr>\n",
       "    <tr>\n",
       "      <th>Other</th>\n",
       "      <td>820.0</td>\n",
       "      <td>40.735366</td>\n",
       "      <td>11.356772</td>\n",
       "      <td>0.0</td>\n",
       "      <td>40.0</td>\n",
       "      <td>40.0</td>\n",
       "      <td>42.25</td>\n",
       "      <td>99.0</td>\n",
       "    </tr>\n",
       "    <tr>\n",
       "      <th>White</th>\n",
       "      <td>41242.0</td>\n",
       "      <td>40.640124</td>\n",
       "      <td>11.398309</td>\n",
       "      <td>0.0</td>\n",
       "      <td>40.0</td>\n",
       "      <td>40.0</td>\n",
       "      <td>45.00</td>\n",
       "      <td>180.0</td>\n",
       "    </tr>\n",
       "  </tbody>\n",
       "</table>\n",
       "</div>"
      ],
      "text/plain": [
       "                                count       mean        std  min   25%   50%  \\\n",
       "RACE                                                                           \n",
       "American Indian/Aleut/Eskimo    655.0  39.444275  10.570697  0.0  40.0  40.0   \n",
       "Asian/Pacific Islander         4043.0  40.402671  10.441899  0.0  40.0  40.0   \n",
       "Black                          5546.0  40.088172   9.876312  0.0  40.0  40.0   \n",
       "Other                           820.0  40.735366  11.356772  0.0  40.0  40.0   \n",
       "White                         41242.0  40.640124  11.398309  0.0  40.0  40.0   \n",
       "\n",
       "                                75%    max  \n",
       "RACE                                        \n",
       "American Indian/Aleut/Eskimo  40.00   92.0  \n",
       "Asian/Pacific Islander        40.00  110.0  \n",
       "Black                         40.00  100.0  \n",
       "Other                         42.25   99.0  \n",
       "White                         45.00  180.0  "
      ]
     },
     "execution_count": 5,
     "metadata": {},
     "output_type": "execute_result"
    }
   ],
   "source": [
    "social_media_usage.groupby('RACE').describe()['MINUTES']"
   ]
  },
  {
   "cell_type": "markdown",
   "id": "c1116976-d95a-44ca-8ce9-9f260675e9f8",
   "metadata": {},
   "source": [
    "ANOVA usando `statsmodels`\n",
    "\n",
    "**Modelo**\n",
    "\n",
    "```Python\n",
    "model = ols('MINUTES ~ RACE',  # Model formula\n",
    "            data = social_media_usage).fit()\n",
    "```\n",
    "Esta línea de código utiliza el paquete `statsmodels` en Python para ajustar un modelo de regresión lineal ordinaria (OLS, por sus siglas en inglés). Aquí está la explicación de cada parte:\n",
    "\n",
    "- `ols('MINUTES ~ RACE'`: Define el modelo de regresión lineal utilizando la fórmula `MINUTES ~ RACE`, donde `MINUTES` es la variable dependiente (la que queremos predecir) y `RACE` es la variable independiente (predictora). La fórmula sigue la convención de R, donde `~` se utiliza para separar la variable dependiente de la variable independiente.\n",
    "  \n",
    "- `data = social_media_usage)`: Especifica el conjunto de datos en el que se encuentran las variables `MINUTES` y `RACE`. En este caso, `social_media_usage` es el nombre del DataFrame que contiene los datos.\n",
    "\n",
    "- `.fit()`: Llama al método `fit()` para ajustar el modelo a los datos. Este método ajusta el modelo de regresión lineal a los datos proporcionados y devuelve un objeto que contiene los resultados del ajuste, incluidos los coeficientes, estadísticas de ajuste y otros detalles del modelo.\n",
    "\n",
    "Después de ejecutar esta línea de código, la variable `model` contendrá el modelo de regresión lineal ajustado, que se puede utilizar para realizar predicciones, evaluar el ajuste del modelo y obtener estadísticas sobre los coeficientes estimados.\n",
    "\n",
    "**ANOVA del modelo**\n",
    "\n",
    "```Python                \n",
    "anova_result = sm.stats.anova_lm(model, typ=2)\n",
    "```\n",
    "\n",
    "Esta línea de código calcula un análisis de varianza (ANOVA) para el modelo de regresión lineal ajustado utilizando el método `anova_lm()` del módulo `statsmodels.stats.anova`. Aquí está la explicación de cada parte:\n",
    "\n",
    "- `sm.stats.anova_lm(model, typ=2)`: Calcula el ANOVA para el modelo de regresión lineal ajustado (`model`). El parámetro `typ=2` especifica que se utilizará el enfoque de ANOVA tipo 2, que es adecuado para modelos con términos de interacción. Este tipo de ANOVA divide la suma de cuadrados de cada predictor en el modelo en componentes únicas y compartidas, lo que permite evaluar la contribución de cada predictor de manera independiente. El resultado es un DataFrame que contiene las estadísticas de ANOVA, incluidos los valores F, los valores p y otras métricas relacionadas con la significancia estadística de cada predictor en el modelo.\n",
    "\n",
    "Después de ejecutar esta línea de código, `anova_result` contendrá el DataFrame con los resultados del análisis de varianza, que se puede utilizar para evaluar la significancia estadística de cada predictor en el modelo de regresión lineal.\n",
    "\n",
    "**Revise:** \n",
    "- https://stats.stackexchange.com/questions/175246/why-is-anova-equivalent-to-linear-regression"
   ]
  },
  {
   "cell_type": "code",
   "execution_count": 6,
   "id": "b9cffbe0",
   "metadata": {},
   "outputs": [
    {
     "name": "stdout",
     "output_type": "stream",
     "text": [
      "                sum_sq       df         F    PR(>F)\n",
      "RACE      2.434614e+03      4.0  4.883604  0.000618\n",
      "Residual  6.518380e+06  52301.0       NaN       NaN\n"
     ]
    }
   ],
   "source": [
    "import statsmodels.api as sm\n",
    "from statsmodels.formula.api import ols\n",
    "\n",
    "model = ols('MINUTES ~ RACE',  # Model formula\n",
    "            data = social_media_usage).fit()\n",
    "                \n",
    "anova_result = sm.stats.anova_lm(model, typ=2)\n",
    "print(anova_result)"
   ]
  },
  {
   "cell_type": "markdown",
   "id": "b44d2fc3-52a0-4b14-b232-ee3072e0ecb0",
   "metadata": {},
   "source": [
    "En el análisis de varianza (ANOVA), los términos sum_sq, df, F y PR(>F) representan diferentes aspectos del modelo y la prueba de hipótesis. Aquí está la interpretación de cada uno:\n",
    "\n",
    "1. **sum_sq (Suma de cuadrados)**: Representa la suma de los cuadrados de las desviaciones de los valores observados de la variable dependiente respecto a su media. Cuanto mayor sea este valor, mayor será la variabilidad total en los datos.\n",
    "\n",
    "2. **df (Grados de libertad):** Indica el número de categorías menos uno en el factor considerado en el análisis. En el caso de ANOVA, hay dos tipos de grados de libertad: los grados de libertad entre grupos (DF entre) y los grados de libertad dentro de grupos (DF dentro).\n",
    "\n",
    "3. **F (Estadística de prueba F):** Es la relación de variabilidad entre grupos respecto a la variabilidad dentro de los grupos. Se calcula como el cociente de la variabilidad entre grupos dividida por la variabilidad dentro de los grupos. Un valor alto de F indica que las medias de los grupos son significativamente diferentes entre sí.\n",
    "\n",
    "4. **PR(>F) (Valor p):** Indica la probabilidad de observar un valor de la estadística F igual o mayor al observado, suponiendo que la hipótesis nula de que no hay diferencia entre los grupos es verdadera. Un valor p pequeño (generalmente < 0.05) sugiere que hay evidencia suficiente para rechazar la hipótesis nula y concluir que hay al menos una diferencia significativa entre los grupos.\n",
    "\n",
    "En resumen, para interpretar estos resultados, se observa el valor de F y el valor p asociado. Un valor de F grande junto con un valor p pequeño sugiere que hay al menos una diferencia significativa entre los grupos en la variable dependiente.\n",
    "\n",
    "### Análisis post-hoc\n",
    "\n",
    "El análisis post-hoc, también conocido como análisis a posteriori, se utiliza en estadística después de realizar pruebas de comparación múltiple, como el análisis de varianza (ANOVA) o las pruebas de hipótesis entre varios grupos. El objetivo del análisis post-hoc es identificar qué grupos específicos son significativamente diferentes entre sí después de que se ha encontrado una diferencia general entre los grupos.\n",
    "\n",
    "Este análisis implica realizar una serie de comparaciones entre pares de grupos para determinar si existen diferencias significativas en las medias de las variables de interés. Se utilizan diferentes métodos estadísticos, como la prueba de Tukey, la prueba de Bonferroni, la prueba de Scheffé, entre otras, para realizar estas comparaciones.\n",
    "\n",
    "El análisis post-hoc es importante porque ayuda a evitar conclusiones erróneas al realizar múltiples comparaciones. Ayuda a identificar qué comparaciones específicas son significativas y cuáles no lo son, lo que proporciona una comprensión más precisa de las diferencias entre grupos en un estudio.\n",
    "\n",
    "### Pairwise TukeyHSD\n",
    "\n",
    "El método pairwise TukeyHSD (Tukey Honest Significant Differences) es una técnica comúnmente utilizada en análisis post-hoc para comparar todas las combinaciones posibles entre los grupos en un ANOVA (Análisis de Varianza). Su objetivo es identificar diferencias significativas entre las medias de los grupos después de haber realizado una prueba global de diferencia entre ellos.\n",
    "\n",
    "La prueba TukeyHSD compara todas las posibles combinaciones de pares de grupos y calcula intervalos de confianza ajustados para la diferencia entre las medias de cada par. Luego, determina si estas diferencias son estadísticamente significativas en función de la variabilidad dentro de los grupos y el tamaño total de la muestra.\n",
    "\n",
    "La ventaja del método TukeyHSD es su capacidad para controlar el error de tipo I cuando se realizan múltiples comparaciones. Al ajustar los intervalos de confianza para cada comparación, ayuda a mantener un nivel global de significancia, reduciendo así la probabilidad de falsos positivos.\n",
    "\n",
    "TukeyHSD es una herramienta útil para identificar qué combinaciones específicas de grupos difieren significativamente entre sí después de realizar un ANOVA, proporcionando una comprensión más detallada de las diferencias entre grupos en un estudio."
   ]
  },
  {
   "cell_type": "code",
   "execution_count": 5,
   "id": "3275ef33",
   "metadata": {},
   "outputs": [
    {
     "data": {
      "text/html": [
       "<table class=\"simpletable\">\n",
       "<caption>Multiple Comparison of Means - Tukey HSD, FWER=0.10</caption>\n",
       "<tr>\n",
       "             <th>group1</th>                    <th>group2</th>         <th>meandiff</th>  <th>p-adj</th>  <th>lower</th>   <th>upper</th> <th>reject</th>\n",
       "</tr>\n",
       "<tr>\n",
       "  <td>American Indian/Aleut/Eskimo</td> <td>Asian/Pacific Islander</td>  <td>0.9584</td>  <td>0.2477</td> <td>-0.1981</td> <td>2.1149</td>  <td>False</td>\n",
       "</tr>\n",
       "<tr>\n",
       "  <td>American Indian/Aleut/Eskimo</td>          <td>Black</td>          <td>0.6439</td>  <td>0.6303</td> <td>-0.4906</td> <td>1.7784</td>  <td>False</td>\n",
       "</tr>\n",
       "<tr>\n",
       "  <td>American Indian/Aleut/Eskimo</td>          <td>Other</td>          <td>1.2911</td>  <td>0.1771</td> <td>-0.1479</td>  <td>2.73</td>   <td>False</td>\n",
       "</tr>\n",
       "<tr>\n",
       "  <td>American Indian/Aleut/Eskimo</td>          <td>White</td>          <td>1.1958</td>  <td>0.0511</td> <td>0.1145</td>  <td>2.2772</td>  <td>True</td> \n",
       "</tr>\n",
       "<tr>\n",
       "     <td>Asian/Pacific Islander</td>             <td>Black</td>          <td>-0.3145</td> <td>0.6519</td> <td>-0.8823</td> <td>0.2533</td>  <td>False</td>\n",
       "</tr>\n",
       "<tr>\n",
       "     <td>Asian/Pacific Islander</td>             <td>Other</td>          <td>0.3327</td>   <td>0.937</td> <td>-0.719</td>  <td>1.3843</td>  <td>False</td>\n",
       "</tr>\n",
       "<tr>\n",
       "     <td>Asian/Pacific Islander</td>             <td>White</td>          <td>0.2375</td>   <td>0.697</td> <td>-0.2151</td>  <td>0.69</td>   <td>False</td>\n",
       "</tr>\n",
       "<tr>\n",
       "              <td>Black</td>                     <td>Other</td>          <td>0.6472</td>  <td>0.5301</td> <td>-0.3801</td> <td>1.6745</td>  <td>False</td>\n",
       "</tr>\n",
       "<tr>\n",
       "              <td>Black</td>                     <td>White</td>           <td>0.552</td>   <td>0.005</td> <td>0.1592</td>  <td>0.9447</td>  <td>True</td> \n",
       "</tr>\n",
       "<tr>\n",
       "              <td>Other</td>                     <td>White</td>          <td>-0.0952</td> <td>0.9992</td> <td>-1.0636</td> <td>0.8731</td>  <td>False</td>\n",
       "</tr>\n",
       "</table>"
      ],
      "text/latex": [
       "\\begin{center}\n",
       "\\begin{tabular}{ccccccc}\n",
       "\\toprule\n",
       "      \\textbf{group1}        &    \\textbf{group2}     & \\textbf{meandiff} & \\textbf{p-adj} & \\textbf{lower} & \\textbf{upper} & \\textbf{reject}  \\\\\n",
       "\\midrule\n",
       "American Indian/Aleut/Eskimo & Asian/Pacific Islander &       0.9584      &     0.2477     &    -0.1981     &     2.1149     &      False       \\\\\n",
       "American Indian/Aleut/Eskimo &         Black          &       0.6439      &     0.6303     &    -0.4906     &     1.7784     &      False       \\\\\n",
       "American Indian/Aleut/Eskimo &         Other          &       1.2911      &     0.1771     &    -0.1479     &      2.73      &      False       \\\\\n",
       "American Indian/Aleut/Eskimo &         White          &       1.1958      &     0.0511     &     0.1145     &     2.2772     &       True       \\\\\n",
       "   Asian/Pacific Islander    &         Black          &      -0.3145      &     0.6519     &    -0.8823     &     0.2533     &      False       \\\\\n",
       "   Asian/Pacific Islander    &         Other          &       0.3327      &     0.937      &     -0.719     &     1.3843     &      False       \\\\\n",
       "   Asian/Pacific Islander    &         White          &       0.2375      &     0.697      &    -0.2151     &      0.69      &      False       \\\\\n",
       "           Black             &         Other          &       0.6472      &     0.5301     &    -0.3801     &     1.6745     &      False       \\\\\n",
       "           Black             &         White          &       0.552       &     0.005      &     0.1592     &     0.9447     &       True       \\\\\n",
       "           Other             &         White          &      -0.0952      &     0.9992     &    -1.0636     &     0.8731     &      False       \\\\\n",
       "\\bottomrule\n",
       "\\end{tabular}\n",
       "%\\caption{Multiple Comparison of Means - Tukey HSD, FWER=0.10}\n",
       "\\end{center}"
      ],
      "text/plain": [
       "<class 'statsmodels.iolib.table.SimpleTable'>"
      ]
     },
     "execution_count": 5,
     "metadata": {},
     "output_type": "execute_result"
    }
   ],
   "source": [
    "from statsmodels.stats.multicomp import pairwise_tukeyhsd\n",
    "\n",
    "tukey = pairwise_tukeyhsd(endog=social_media_usage.MINUTES,     # Data\n",
    "                          groups=social_media_usage.RACE,   # Groups\n",
    "                          alpha=0.1)          # Significance level\n",
    "\n",
    "tukey.summary()  "
   ]
  },
  {
   "cell_type": "markdown",
   "id": "46793308-85a4-43e5-9382-122387b8202d",
   "metadata": {},
   "source": [
    "La salida de la prueba TukeyHSD proporciona información sobre las diferencias significativas entre los grupos comparados. Aquí está la interpretación de cada columna:\n",
    "\n",
    "- **group1 y group2:** Los grupos que se están comparando.\n",
    "- **meandiff:** La diferencia promedio entre las medias de los grupos comparados.\n",
    "- **p-adj:** El valor de p ajustado para controlar el error de tipo I debido a las múltiples comparaciones. Si este valor es menor que el nivel de significancia establecido (0.10 en este caso), se considera que la diferencia es estadísticamente significativa.\n",
    "- **lower:** El límite inferior del intervalo de confianza para la diferencia de medias.\n",
    "- **upper:** El límite superior del intervalo de confianza para la diferencia de medias.\n",
    "- **reject:** Indica si se rechaza la hipótesis nula de que no hay diferencia entre las medias de los grupos.\n",
    "  - Si `reject` es True, significa que la diferencia entre las medias es estadísticamente significativa y se rechaza la hipótesis nula.\n",
    "\n",
    "Esta salida le proporciona información sobre qué pares de grupos tienen diferencias significativas en sus medias, ayudándole a identificar qué grupos difieren entre sí después de realizar el ANOVA."
   ]
  },
  {
   "cell_type": "code",
   "execution_count": 6,
   "id": "7993e759-3df6-4666-9253-12d5e41655d8",
   "metadata": {},
   "outputs": [
    {
     "data": {
      "image/png": "[encoded data removed]",
      "text/plain": [
       "<Figure size 1000x600 with 1 Axes>"
      ]
     },
     "metadata": {},
     "output_type": "display_data"
    }
   ],
   "source": [
    "tukey.plot_simultaneous();    # Plot group confidence intervals"
   ]
  },
  {
   "cell_type": "markdown",
   "id": "497e0aed-b8ac-40c1-983a-b7bb3ae9c582",
   "metadata": {},
   "source": [
    "La función `tukey.plot_simultaneous()` genera un gráfico que muestra los intervalos de confianza simultáneos para las medias de cada grupo. Aquí está la interpretación:\n",
    "\n",
    "- Cada línea en el gráfico representa un grupo y el segmento de la línea representa el intervalo de confianza para la media de ese grupo.\n",
    "- Donde los intervalos de confianza no se superponen, hay una diferencia significativa entre las medias de los grupos correspondientes.\n",
    "- Si los intervalos de confianza se superponen, no hay una diferencia significativa entre las medias de esos grupos.\n",
    "- Los grupos cuyos intervalos de confianza no se superponen indican diferencias significativas entre ellos, mientras que los grupos cuyos intervalos de confianza se superponen indican que no hay diferencias significativas entre ellos.\n",
    "\n",
    "Este gráfico proporciona una representación visual de las diferencias significativas entre las medias de los grupos, lo que facilita la identificación de grupos que difieren entre sí después de realizar el ANOVA.\n",
    "\n",
    "- **Como ejercicio realice un ANOVA para las otras columnas categóricas que considere de interés.**"
   ]
  },
  {
   "cell_type": "markdown",
   "id": "16010180-549b-48bb-a022-ad68edcd195a",
   "metadata": {},
   "source": [
    "### Ejemplo: Evaluar modelos de clasificación\n",
    "\n",
    "Se realizó un análisis de varianza (ANOVA) para investigar si hay diferencias significativas en el **accuracy** de diferentes tipos de modelos de clasificación para detectar humedad en granos de arroz. El factor independiente fue el tipo de modelo de clasificación, mientras que la variable dependiente fue la precisión del modelo (medida como la tasa de clasificación correcta). Se recopiló un conjunto de datos que incluye múltiples modelos de clasificación **RFC** (Random Forest Classifier), **RFR** (Random Forest Regressor), **XGBC** (eXtreme Gradient Boosting Classifier), **XGBR** (eXtreme Gradient Boosting Regressor) y se calculó la precisión de cada modelo mediante validación cruzada u otra técnica de evaluación de modelos. \n",
    "\n",
    "La \"accuracy\" en un modelo de clasificación es una medida que indica la proporción de instancias correctamente clasificadas respecto al total de instancias en el conjunto de datos. En otras palabras, es la cantidad de predicciones correctas dividida por el número total de predicciones realizadas por el modelo. Se expresa comúnmente como un porcentaje, donde una precisión del 100% indicaría que todas las predicciones del modelo fueron correctas.\n",
    "\n",
    "La fórmula para calcular la accuracy es:\n",
    "\n",
    "$$\n",
    "\\text{accuracy} = \\frac{\\text{Número de predicciones correctas}}{\\text{Número total de predicciones}}\n",
    "$$\n",
    "\n",
    "La precisión es una de las métricas más utilizadas para evaluar el rendimiento de un modelo de clasificación, especialmente cuando las clases están balanceadas en el conjunto de datos. \n",
    "\n",
    "El análisis de ANOVA se utilizó para determinar si hay una diferencia significativa en la precisión entre los diferentes tipos de modelos de clasificación.\n",
    "\n",
    "**Revise:** \n",
    "  - https://www.mdpi.com/2073-4395/12/12/3021"
   ]
  },
  {
   "cell_type": "markdown",
   "id": "2ac42b2c-52f1-44fd-9ce5-849753d401cb",
   "metadata": {},
   "source": [
    "La línea de código `data.groupby('model').describe()['accuracy']` realiza varias operaciones utilizando el método `groupby` en un DataFrame llamado `data`. Aquí está la explicación de cada parte de la línea:\n",
    "\n",
    "1. `data.groupby('model')`: Esto agrupa los datos en el DataFrame `data` por los valores únicos en la columna 'model'. Es decir, se están agrupando las filas del DataFrame según los diferentes modelos presentes en la columna 'model'.\n",
    "\n",
    "2. `.describe()`: Este método genera estadísticas descriptivas para cada grupo creado por la operación `groupby`. Estadísticas descriptivas como la media, la desviación estándar, el mínimo, el máximo y los cuartiles se calculan para cada grupo.\n",
    "\n",
    "3. `['accuracy']`: Finalmente, se selecciona la columna 'accuracy' del resultado de la operación `describe()`. Esto devuelve un resumen de estadísticas descriptivas específicamente para la columna 'accuracy' para cada grupo definido por los valores únicos en la columna 'model'.\n",
    "\n",
    "La línea de código proporcionada agrupa los datos por los diferentes modelos, calcula estadísticas descriptivas para la columna 'accuracy' dentro de cada grupo y devuelve este resumen de estadísticas descriptivas para la precisión de cada modelo."
   ]
  },
  {
   "cell_type": "code",
   "execution_count": 9,
   "id": "6e23cf2f",
   "metadata": {},
   "outputs": [
    {
     "data": {
      "text/html": [
       "<div>\n",
       "<style scoped>\n",
       "    .dataframe tbody tr th:only-of-type {\n",
       "        vertical-align: middle;\n",
       "    }\n",
       "\n",
       "    .dataframe tbody tr th {\n",
       "        vertical-align: top;\n",
       "    }\n",
       "\n",
       "    .dataframe thead th {\n",
       "        text-align: right;\n",
       "    }\n",
       "</style>\n",
       "<table border=\"1\" class=\"dataframe\">\n",
       "  <thead>\n",
       "    <tr style=\"text-align: right;\">\n",
       "      <th></th>\n",
       "      <th>count</th>\n",
       "      <th>mean</th>\n",
       "      <th>std</th>\n",
       "      <th>min</th>\n",
       "      <th>25%</th>\n",
       "      <th>50%</th>\n",
       "      <th>75%</th>\n",
       "      <th>max</th>\n",
       "    </tr>\n",
       "    <tr>\n",
       "      <th>model</th>\n",
       "      <th></th>\n",
       "      <th></th>\n",
       "      <th></th>\n",
       "      <th></th>\n",
       "      <th></th>\n",
       "      <th></th>\n",
       "      <th></th>\n",
       "      <th></th>\n",
       "    </tr>\n",
       "  </thead>\n",
       "  <tbody>\n",
       "    <tr>\n",
       "      <th>RFC</th>\n",
       "      <td>60.0</td>\n",
       "      <td>0.850938</td>\n",
       "      <td>0.099096</td>\n",
       "      <td>0.636364</td>\n",
       "      <td>0.772727</td>\n",
       "      <td>0.863636</td>\n",
       "      <td>0.952381</td>\n",
       "      <td>1.000000</td>\n",
       "    </tr>\n",
       "    <tr>\n",
       "      <th>RFR</th>\n",
       "      <td>60.0</td>\n",
       "      <td>0.799964</td>\n",
       "      <td>0.129825</td>\n",
       "      <td>0.454545</td>\n",
       "      <td>0.727273</td>\n",
       "      <td>0.857143</td>\n",
       "      <td>0.904762</td>\n",
       "      <td>1.000000</td>\n",
       "    </tr>\n",
       "    <tr>\n",
       "      <th>XGBC</th>\n",
       "      <td>60.0</td>\n",
       "      <td>0.845238</td>\n",
       "      <td>0.091984</td>\n",
       "      <td>0.619048</td>\n",
       "      <td>0.800325</td>\n",
       "      <td>0.863636</td>\n",
       "      <td>0.909091</td>\n",
       "      <td>1.000000</td>\n",
       "    </tr>\n",
       "    <tr>\n",
       "      <th>XGBR</th>\n",
       "      <td>60.0</td>\n",
       "      <td>0.766775</td>\n",
       "      <td>0.139942</td>\n",
       "      <td>0.318182</td>\n",
       "      <td>0.670455</td>\n",
       "      <td>0.818182</td>\n",
       "      <td>0.863636</td>\n",
       "      <td>0.954545</td>\n",
       "    </tr>\n",
       "  </tbody>\n",
       "</table>\n",
       "</div>"
      ],
      "text/plain": [
       "       count      mean       std       min       25%       50%       75%  \\\n",
       "model                                                                      \n",
       "RFC     60.0  0.850938  0.099096  0.636364  0.772727  0.863636  0.952381   \n",
       "RFR     60.0  0.799964  0.129825  0.454545  0.727273  0.857143  0.904762   \n",
       "XGBC    60.0  0.845238  0.091984  0.619048  0.800325  0.863636  0.909091   \n",
       "XGBR    60.0  0.766775  0.139942  0.318182  0.670455  0.818182  0.863636   \n",
       "\n",
       "            max  \n",
       "model            \n",
       "RFC    1.000000  \n",
       "RFR    1.000000  \n",
       "XGBC   1.000000  \n",
       "XGBR   0.954545  "
      ]
     },
     "execution_count": 9,
     "metadata": {},
     "output_type": "execute_result"
    }
   ],
   "source": [
    "data = pd.read_csv(\"https://raw.githubusercontent.com/marsgr6/estadistica-ux/main/data/model_evaluation.csv\")\n",
    "\n",
    "data.groupby('model').describe()['accuracy']"
   ]
  },
  {
   "cell_type": "code",
   "execution_count": 10,
   "id": "d777ae4d",
   "metadata": {},
   "outputs": [
    {
     "name": "stdout",
     "output_type": "stream",
     "text": [
      "            sum_sq     df         F    PR(>F)\n",
      "model     0.285330    3.0  6.952584  0.000167\n",
      "Residual  3.228434  236.0       NaN       NaN\n"
     ]
    }
   ],
   "source": [
    "model = ols('accuracy ~ model',  # Model formula\n",
    "            data = data).fit()\n",
    "                \n",
    "anova_result = sm.stats.anova_lm(model, typ=2)\n",
    "print(anova_result)"
   ]
  },
  {
   "cell_type": "code",
   "execution_count": 11,
   "id": "8bf54290",
   "metadata": {},
   "outputs": [
    {
     "data": {
      "text/html": [
       "<table class=\"simpletable\">\n",
       "<caption>Multiple Comparison of Means - Tukey HSD, FWER=0.05</caption>\n",
       "<tr>\n",
       "  <th>group1</th> <th>group2</th> <th>meandiff</th>  <th>p-adj</th>  <th>lower</th>   <th>upper</th>  <th>reject</th>\n",
       "</tr>\n",
       "<tr>\n",
       "    <td>RFC</td>    <td>RFR</td>   <td>-0.051</td>  <td>0.0823</td> <td>-0.1062</td> <td>0.0043</td>   <td>False</td>\n",
       "</tr>\n",
       "<tr>\n",
       "    <td>RFC</td>   <td>XGBC</td>   <td>-0.0057</td> <td>0.9933</td> <td>-0.061</td>  <td>0.0496</td>   <td>False</td>\n",
       "</tr>\n",
       "<tr>\n",
       "    <td>RFC</td>   <td>XGBR</td>   <td>-0.0842</td> <td>0.0006</td> <td>-0.1394</td> <td>-0.0289</td>  <td>True</td> \n",
       "</tr>\n",
       "<tr>\n",
       "    <td>RFR</td>   <td>XGBC</td>   <td>0.0453</td>  <td>0.1497</td>  <td>-0.01</td>  <td>0.1005</td>   <td>False</td>\n",
       "</tr>\n",
       "<tr>\n",
       "    <td>RFR</td>   <td>XGBR</td>   <td>-0.0332</td> <td>0.4069</td> <td>-0.0884</td> <td>0.0221</td>   <td>False</td>\n",
       "</tr>\n",
       "<tr>\n",
       "   <td>XGBC</td>   <td>XGBR</td>   <td>-0.0785</td> <td>0.0017</td> <td>-0.1337</td> <td>-0.0232</td>  <td>True</td> \n",
       "</tr>\n",
       "</table>"
      ],
      "text/latex": [
       "\\begin{center}\n",
       "\\begin{tabular}{ccccccc}\n",
       "\\toprule\n",
       "\\textbf{group1} & \\textbf{group2} & \\textbf{meandiff} & \\textbf{p-adj} & \\textbf{lower} & \\textbf{upper} & \\textbf{reject}  \\\\\n",
       "\\midrule\n",
       "      RFC       &       RFR       &       -0.051      &     0.0823     &    -0.1062     &     0.0043     &      False       \\\\\n",
       "      RFC       &       XGBC      &      -0.0057      &     0.9933     &     -0.061     &     0.0496     &      False       \\\\\n",
       "      RFC       &       XGBR      &      -0.0842      &     0.0006     &    -0.1394     &    -0.0289     &       True       \\\\\n",
       "      RFR       &       XGBC      &       0.0453      &     0.1497     &     -0.01      &     0.1005     &      False       \\\\\n",
       "      RFR       &       XGBR      &      -0.0332      &     0.4069     &    -0.0884     &     0.0221     &      False       \\\\\n",
       "      XGBC      &       XGBR      &      -0.0785      &     0.0017     &    -0.1337     &    -0.0232     &       True       \\\\\n",
       "\\bottomrule\n",
       "\\end{tabular}\n",
       "%\\caption{Multiple Comparison of Means - Tukey HSD, FWER=0.05}\n",
       "\\end{center}"
      ],
      "text/plain": [
       "<class 'statsmodels.iolib.table.SimpleTable'>"
      ]
     },
     "execution_count": 11,
     "metadata": {},
     "output_type": "execute_result"
    },
    {
     "data": {
      "image/png": "[encoded data removed]",
      "text/plain": [
       "<Figure size 1000x600 with 1 Axes>"
      ]
     },
     "metadata": {},
     "output_type": "display_data"
    }
   ],
   "source": [
    "tukey = pairwise_tukeyhsd(endog=data.accuracy,     # Data\n",
    "                          groups=data.model,   # Groups\n",
    "                          alpha=0.05)          # Significance level\n",
    "\n",
    "tukey.plot_simultaneous()    # Plot group confidence intervals\n",
    "\n",
    "tukey.summary()   "
   ]
  },
  {
   "cell_type": "markdown",
   "id": "d705a8c0-fd20-4a41-8038-a536d4d6a8d3",
   "metadata": {},
   "source": [
    "Las características globales de las imágenes son aquellas que se calculan considerando la imagen completa en lugar de regiones específicas de la misma. Cada uno de los acrónimos proporcionados probablemente represente un tipo diferente de característica global de imagen:\n",
    "\n",
    "1. GLCM (Matriz de co-ocurrencia de niveles de gris): Aunque la GLCM a menudo se asocia con características locales, también se pueden derivar características globales de esta matriz.\n",
    "\n",
    "2. GRAY_CH (Canal de grises): Puede representar características globales calculadas en la escala de grises de la imagen completa.\n",
    "\n",
    "3. HRLK (Histograma de lados de la región): Podría referirse a un descriptor global que captura la distribución de los lados de la región en toda la imagen.\n",
    "\n",
    "4. HSV_CH (Canal de espacio de color HSV): Se refiere a características globales calculadas en los componentes de matiz, saturación y valor del espacio de color HSV en toda la imagen.\n",
    "\n",
    "5. LBP (Patrones binarios locales): Aunque LBP se asocia comúnmente con características locales, también se pueden derivar características globales de los patrones LBP en toda la imagen.\n",
    "\n",
    "6. RGB_CH (Canal de espacio de color RGB): Se refiere a características globales calculadas en los componentes rojo, verde y azul del espacio de color RGB en toda la imagen.\n",
    "\n",
    "Estas características globales se utilizan para describir la imagen en su conjunto y pueden capturar información sobre el color, la textura, la forma y otros aspectos importantes de la imagen completa.\n",
    "\n",
    "- Vamos a filtrar los datos para el feagure LBP y realizar nuestro análisis de varianza."
   ]
  },
  {
   "cell_type": "code",
   "execution_count": 12,
   "id": "ca8ab377",
   "metadata": {},
   "outputs": [
    {
     "data": {
      "text/plain": [
       "array(['GLCM', 'GRAY_CH', 'HRLK', 'HSV_CH', 'LBP', 'RGB_CH'], dtype=object)"
      ]
     },
     "execution_count": 12,
     "metadata": {},
     "output_type": "execute_result"
    }
   ],
   "source": [
    "np.unique(data.features)"
   ]
  },
  {
   "cell_type": "code",
   "execution_count": 20,
   "id": "79235aad",
   "metadata": {},
   "outputs": [
    {
     "data": {
      "text/html": [
       "<div>\n",
       "<style scoped>\n",
       "    .dataframe tbody tr th:only-of-type {\n",
       "        vertical-align: middle;\n",
       "    }\n",
       "\n",
       "    .dataframe tbody tr th {\n",
       "        vertical-align: top;\n",
       "    }\n",
       "\n",
       "    .dataframe thead th {\n",
       "        text-align: right;\n",
       "    }\n",
       "</style>\n",
       "<table border=\"1\" class=\"dataframe\">\n",
       "  <thead>\n",
       "    <tr style=\"text-align: right;\">\n",
       "      <th></th>\n",
       "      <th>count</th>\n",
       "      <th>mean</th>\n",
       "      <th>std</th>\n",
       "      <th>min</th>\n",
       "      <th>25%</th>\n",
       "      <th>50%</th>\n",
       "      <th>75%</th>\n",
       "      <th>max</th>\n",
       "    </tr>\n",
       "    <tr>\n",
       "      <th>model</th>\n",
       "      <th></th>\n",
       "      <th></th>\n",
       "      <th></th>\n",
       "      <th></th>\n",
       "      <th></th>\n",
       "      <th></th>\n",
       "      <th></th>\n",
       "      <th></th>\n",
       "    </tr>\n",
       "  </thead>\n",
       "  <tbody>\n",
       "    <tr>\n",
       "      <th>RFC</th>\n",
       "      <td>10.0</td>\n",
       "      <td>0.739177</td>\n",
       "      <td>0.101207</td>\n",
       "      <td>0.636364</td>\n",
       "      <td>0.681818</td>\n",
       "      <td>0.681818</td>\n",
       "      <td>0.772727</td>\n",
       "      <td>0.952381</td>\n",
       "    </tr>\n",
       "    <tr>\n",
       "      <th>RFR</th>\n",
       "      <td>10.0</td>\n",
       "      <td>0.586580</td>\n",
       "      <td>0.101031</td>\n",
       "      <td>0.454545</td>\n",
       "      <td>0.511364</td>\n",
       "      <td>0.558442</td>\n",
       "      <td>0.670455</td>\n",
       "      <td>0.727273</td>\n",
       "    </tr>\n",
       "    <tr>\n",
       "      <th>XGBC</th>\n",
       "      <td>10.0</td>\n",
       "      <td>0.756061</td>\n",
       "      <td>0.089052</td>\n",
       "      <td>0.636364</td>\n",
       "      <td>0.681818</td>\n",
       "      <td>0.727273</td>\n",
       "      <td>0.852273</td>\n",
       "      <td>0.863636</td>\n",
       "    </tr>\n",
       "    <tr>\n",
       "      <th>XGBR</th>\n",
       "      <td>10.0</td>\n",
       "      <td>0.532468</td>\n",
       "      <td>0.090949</td>\n",
       "      <td>0.318182</td>\n",
       "      <td>0.500000</td>\n",
       "      <td>0.534632</td>\n",
       "      <td>0.590909</td>\n",
       "      <td>0.636364</td>\n",
       "    </tr>\n",
       "  </tbody>\n",
       "</table>\n",
       "</div>"
      ],
      "text/plain": [
       "       count      mean       std       min       25%       50%       75%  \\\n",
       "model                                                                      \n",
       "RFC     10.0  0.739177  0.101207  0.636364  0.681818  0.681818  0.772727   \n",
       "RFR     10.0  0.586580  0.101031  0.454545  0.511364  0.558442  0.670455   \n",
       "XGBC    10.0  0.756061  0.089052  0.636364  0.681818  0.727273  0.852273   \n",
       "XGBR    10.0  0.532468  0.090949  0.318182  0.500000  0.534632  0.590909   \n",
       "\n",
       "            max  \n",
       "model            \n",
       "RFC    0.952381  \n",
       "RFR    0.727273  \n",
       "XGBC   0.863636  \n",
       "XGBR   0.636364  "
      ]
     },
     "execution_count": 20,
     "metadata": {},
     "output_type": "execute_result"
    }
   ],
   "source": [
    "gray_ch = data.query('features == \"LBP\"')\n",
    "gray_ch.groupby('model').describe()['accuracy']"
   ]
  },
  {
   "cell_type": "code",
   "execution_count": 14,
   "id": "46fa37f4",
   "metadata": {},
   "outputs": [
    {
     "name": "stdout",
     "output_type": "stream",
     "text": [
      "            sum_sq    df          F    PR(>F)\n",
      "model     0.369864   3.0  13.454942  0.000005\n",
      "Residual  0.329869  36.0        NaN       NaN\n"
     ]
    }
   ],
   "source": [
    "import statsmodels.api as sm\n",
    "from statsmodels.formula.api import ols\n",
    "\n",
    "model = ols('accuracy ~ model',  # Model formula\n",
    "            data = gray_ch).fit()\n",
    "                \n",
    "anova_result = sm.stats.anova_lm(model, typ=2)\n",
    "print(anova_result)"
   ]
  },
  {
   "cell_type": "code",
   "execution_count": 15,
   "id": "bca6fd75",
   "metadata": {},
   "outputs": [
    {
     "data": {
      "text/html": [
       "<table class=\"simpletable\">\n",
       "<caption>Multiple Comparison of Means - Tukey HSD, FWER=0.05</caption>\n",
       "<tr>\n",
       "  <th>group1</th> <th>group2</th> <th>meandiff</th>  <th>p-adj</th>  <th>lower</th>   <th>upper</th>  <th>reject</th>\n",
       "</tr>\n",
       "<tr>\n",
       "    <td>RFC</td>    <td>RFR</td>   <td>-0.1526</td> <td>0.0055</td> <td>-0.2679</td> <td>-0.0373</td>  <td>True</td> \n",
       "</tr>\n",
       "<tr>\n",
       "    <td>RFC</td>   <td>XGBC</td>   <td>0.0169</td>  <td>0.9789</td> <td>-0.0984</td> <td>0.1322</td>   <td>False</td>\n",
       "</tr>\n",
       "<tr>\n",
       "    <td>RFC</td>   <td>XGBR</td>   <td>-0.2067</td> <td>0.0001</td> <td>-0.322</td>  <td>-0.0914</td>  <td>True</td> \n",
       "</tr>\n",
       "<tr>\n",
       "    <td>RFR</td>   <td>XGBC</td>   <td>0.1695</td>  <td>0.0018</td> <td>0.0542</td>  <td>0.2848</td>   <td>True</td> \n",
       "</tr>\n",
       "<tr>\n",
       "    <td>RFR</td>   <td>XGBR</td>   <td>-0.0541</td> <td>0.5912</td> <td>-0.1694</td> <td>0.0612</td>   <td>False</td>\n",
       "</tr>\n",
       "<tr>\n",
       "   <td>XGBC</td>   <td>XGBR</td>   <td>-0.2236</td>   <td>0.0</td>  <td>-0.3389</td> <td>-0.1083</td>  <td>True</td> \n",
       "</tr>\n",
       "</table>"
      ],
      "text/latex": [
       "\\begin{center}\n",
       "\\begin{tabular}{ccccccc}\n",
       "\\toprule\n",
       "\\textbf{group1} & \\textbf{group2} & \\textbf{meandiff} & \\textbf{p-adj} & \\textbf{lower} & \\textbf{upper} & \\textbf{reject}  \\\\\n",
       "\\midrule\n",
       "      RFC       &       RFR       &      -0.1526      &     0.0055     &    -0.2679     &    -0.0373     &       True       \\\\\n",
       "      RFC       &       XGBC      &       0.0169      &     0.9789     &    -0.0984     &     0.1322     &      False       \\\\\n",
       "      RFC       &       XGBR      &      -0.2067      &     0.0001     &     -0.322     &    -0.0914     &       True       \\\\\n",
       "      RFR       &       XGBC      &       0.1695      &     0.0018     &     0.0542     &     0.2848     &       True       \\\\\n",
       "      RFR       &       XGBR      &      -0.0541      &     0.5912     &    -0.1694     &     0.0612     &      False       \\\\\n",
       "      XGBC      &       XGBR      &      -0.2236      &      0.0       &    -0.3389     &    -0.1083     &       True       \\\\\n",
       "\\bottomrule\n",
       "\\end{tabular}\n",
       "%\\caption{Multiple Comparison of Means - Tukey HSD, FWER=0.05}\n",
       "\\end{center}"
      ],
      "text/plain": [
       "<class 'statsmodels.iolib.table.SimpleTable'>"
      ]
     },
     "execution_count": 15,
     "metadata": {},
     "output_type": "execute_result"
    },
    {
     "data": {
      "image/png": "[encoded data removed]",
      "text/plain": [
       "<Figure size 1000x600 with 1 Axes>"
      ]
     },
     "metadata": {},
     "output_type": "display_data"
    }
   ],
   "source": [
    "from statsmodels.stats.multicomp import pairwise_tukeyhsd\n",
    "\n",
    "tukey = pairwise_tukeyhsd(endog=gray_ch.accuracy,     # Data\n",
    "                          groups=gray_ch.model,   # Groups\n",
    "                          alpha=0.05)          # Significance level\n",
    "\n",
    "tukey.plot_simultaneous()    # Plot group confidence intervals\n",
    "\n",
    "tukey.summary()"
   ]
  },
  {
   "cell_type": "markdown",
   "id": "1eae85a5",
   "metadata": {},
   "source": [
    "### Supuestos\n",
    "\n",
    "En un análisis de varianza (ANOVA), los supuestos fundamentales son:\n",
    "\n",
    "1. **Independencia de las observaciones:** Se asume que las observaciones dentro de cada grupo son independientes entre sí y que no hay relación sistemática entre las observaciones de un grupo y otro.\n",
    "\n",
    "2. **Normalidad de los residuos:** Se asume que los residuos (diferencias entre los valores observados y los valores predichos) siguen una distribución normal. Esto significa que los datos en cada grupo siguen una distribución normal.\n",
    "\n",
    "3. **Homogeneidad de las varianzas:** Se supone que las varianzas de las muestras en todos los grupos son iguales. Esto implica que la variabilidad dentro de cada grupo es similar en todos los grupos.\n",
    "\n",
    "Estos supuestos son importantes para garantizar la validez de los resultados del ANOVA. Si alguno de estos supuestos no se cumple, los resultados del análisis pueden ser sesgados o poco confiables. Se pueden realizar pruebas y diagnósticos estadísticos para evaluar si se cumplen estos supuestos antes de interpretar los resultados del ANOVA.\n",
    "\n",
    "- **Revise:** https://www.pythonfordatascience.org/anova-python/#assumption_check\n",
    "\n",
    "\n",
    "### Independencia\n",
    "\n",
    "Esta suposición se prueba al diseñar el estudio. Lo que esto significa es que todos los grupos son mutuamente excluyentes, es decir, un individuo solo puede pertenecer a un grupo. Además, esto significa que los datos no son medidas repetidas (no se recopilan a lo largo del tiempo). En nuestros ejemplos, esta condición se cumple.\n",
    "\n",
    "### Normalidad\n",
    "\n",
    "La suposición de normalidad se prueba en los residuos del modelo cuando proviene de un marco de ANOVA o regresión. Un método para probar la suposición de normalidad es la prueba de Shapiro-Wilk. Esto se puede completar utilizando el método shapiro() de scipy.stats.\n",
    "\n",
    "El test de Shapiro-Wilk es una prueba de normalidad que evalúa si una muestra proviene de una distribución normal. La hipótesis nula es que los datos están distribuidos normalmente. El estadístico de prueba, denotado como $W$, se calcula a partir de las covarianzas entre los valores ordenados y los esperados bajo la hipótesis nula. Si el valor p asociado al estadístico de prueba es menor que el nivel de significancia elegido (generalmente 0.05), se rechaza la hipótesis nula y se concluye que los datos no siguen una distribución normal. En resumen, el test de Shapiro-Wilk proporciona una medida de qué tan bien se ajustan los datos a una distribución normal, con valores pequeños de $W$ indicando desviaciones significativas de la normalidad.\n",
    "\n",
    "El test de Shapiro-Wilk utiliza la siguiente fórmula para calcular el estadístico de prueba, denotado como $ W $:\n",
    "\n",
    "$$ W = \\frac{(\\sum_{i=1}^{n} a_i x_{(i)})^2}{\\sum_{i=1}^{n} (x_i - \\bar{x})^2} $$\n",
    "\n",
    "Donde:\n",
    "- $ n $ es el tamaño de la muestra.\n",
    "- $ x_{(i)} $ es el i-ésimo valor más pequeño en la muestra ordenada.\n",
    "- $ x_i $ es el i-ésimo valor de la muestra.\n",
    "- $ \\bar{x} $ es la media de la muestra.\n",
    "- $ a_i $ son los coeficientes específicos para el cálculo del estadístico de prueba, que dependen del tamaño de la muestra y están tabulados para diferentes tamaños de muestra.\n",
    "\n",
    "Una vez calculado $ W $, se compara con un valor crítico de la distribución de probabilidad bajo la hipótesis nula de normalidad para obtener el valor p asociado. Si el valor p es menor que el nivel de significancia elegido (generalmente 0.05), se rechaza la hipótesis nula y se concluye que los datos no siguen una distribución normal."
   ]
  },
  {
   "cell_type": "code",
   "execution_count": 16,
   "id": "e005c264",
   "metadata": {},
   "outputs": [
    {
     "data": {
      "text/plain": [
       "ShapiroResult(statistic=0.9741586446762085, pvalue=0.4821881353855133)"
      ]
     },
     "execution_count": 16,
     "metadata": {},
     "output_type": "execute_result"
    }
   ],
   "source": [
    "import scipy.stats as stats\n",
    "\n",
    "stats.shapiro(model.resid)"
   ]
  },
  {
   "cell_type": "markdown",
   "id": "5b27721a",
   "metadata": {},
   "source": [
    "El resultado de Shapiro consiste en dos partes: el estadístico de prueba W y el valor p.\n",
    "\n",
    "- El estadístico de prueba (statistic) es un número que se calcula durante la prueba de normalidad de Shapiro-Wilk. En este caso, el valor es aproximadamente 0.974.\n",
    "\n",
    "- El valor p (p-value) es la probabilidad de observar un estadístico de prueba al menos tan extremo como el observado, si la hipótesis nula fuera verdadera. En este caso, el valor p es aproximadamente 0.482.\n",
    "\n",
    "En términos de interpretación, si el valor p es mayor que el nivel de significancia (generalmente 0.05), no hay evidencia suficiente para rechazar la hipótesis nula de normalidad. Por lo tanto, en este caso, con un valor p de aproximadamente 0.482, no hay suficiente evidencia para rechazar la hipótesis nula de normalidad, lo que sugiere que los datos pueden provenir de una distribución normal."
   ]
  },
  {
   "cell_type": "markdown",
   "id": "a3972065",
   "metadata": {},
   "source": [
    "### Homogeneidad de las varianzas\n",
    "\n",
    "El supuesto final es que todos los grupos tienen varianzas iguales. Un método para probar este supuesto es el test de Levene para la homogeneidad de varianzas. Esto se puede realizar utilizando el método `levene()` de `Scipy.stats`.\n",
    "\n",
    "La prueba de Levene se utiliza para evaluar si las varianzas de varios grupos son estadísticamente iguales o diferentes. En otras palabras, se utiliza para probar la homogeneidad de las varianzas entre los grupos. La prueba compara las varianzas de los grupos y determina si existe una diferencia significativa entre ellas. Si el valor p asociado con la prueba de Levene es menor que un umbral predefinido (generalmente 0.05), se rechaza la hipótesis nula de homogeneidad de varianzas, lo que sugiere que al menos una de las varianzas de los grupos es significativamente diferente de las demás. Por otro lado, si el valor p es mayor que el umbral, se acepta la hipótesis nula y se concluye que las varianzas de los grupos son similares.\n",
    "\n",
    "La prueba de Levene compara la magnitud de las desviaciones de las observaciones dentro de cada grupo respecto a la media del grupo, utilizando una medida de dispersión. La fórmula matemática para el estadístico de Levene es:\n",
    "\n",
    "$$ W = \\frac{(N-k)}{(k-1)} \\frac{\\sum_{i=1}^{k} N_i (\\bar{z}_{i\\cdot} - \\bar{z}_{\\cdot\\cdot})^2}{\\sum_{i=1}^{k} \\sum_{j=1}^{N_i} (z_{ij} - \\bar{z}_{i\\cdot})^2} $$\n",
    "\n",
    "Donde:\n",
    "- $ N $ es el número total de observaciones.\n",
    "- $ k $ es el número de grupos.\n",
    "- $ N_i $ es el número de observaciones en el grupo $ i $.\n",
    "- $ \\bar{z}_{i\\cdot} $ es la media de las observaciones en el grupo $ i $.\n",
    "- $ \\bar{z}_{\\cdot\\cdot} $ es la media de todas las observaciones.\n",
    "- $ z_{ij} $ es la observación $ j $ en el grupo $ i $.\n",
    "\n",
    "El estadístico $ W $ sigue una distribución chi-cuadrado con $ k-1 $ grados de libertad, donde $ k $ es el número de grupos."
   ]
  },
  {
   "cell_type": "code",
   "execution_count": 26,
   "id": "95524573",
   "metadata": {},
   "outputs": [
    {
     "data": {
      "text/plain": [
       "LeveneResult(statistic=0.12236192277137319, pvalue=0.9463197735551776)"
      ]
     },
     "execution_count": 26,
     "metadata": {},
     "output_type": "execute_result"
    }
   ],
   "source": [
    "stats.levene(gray_ch['accuracy'][gray_ch['model'] == 'RFC'],\n",
    "             gray_ch['accuracy'][gray_ch['model'] == 'RFR'],\n",
    "             gray_ch['accuracy'][gray_ch['model'] == 'XGBC'],\n",
    "             gray_ch['accuracy'][gray_ch['model'] == 'XGBR'])"
   ]
  },
  {
   "cell_type": "markdown",
   "id": "265e17c0",
   "metadata": {},
   "source": [
    "El resultado de la prueba de Levene consiste en dos valores:\n",
    "\n",
    "- El estadístico de Levene, que en este caso es aproximadamente \\(0.122\\).\n",
    "- El valor p asociado a este estadístico, que en este caso es aproximadamente \\(0.946\\).\n",
    "\n",
    "Interpretación:\n",
    "- El estadístico de Levene es una medida de la diferencia de varianzas entre los grupos. Cuanto menor sea este valor, más similar será la varianza entre los grupos.\n",
    "- El valor p es la probabilidad de observar un estadístico de prueba igual o más extremo que el observado si la hipótesis nula fuera verdadera. En este caso, como el valor p es mayor que un nivel de significancia típico como 0.05, no hay suficiente evidencia para rechazar la hipótesis nula de que las varianzas entre los grupos son iguales.\n",
    "\n",
    "Basados en este resultado, no hay evidencia para sugerir que las varianzas entre los grupos sean diferentes.\n",
    "\n",
    "Podemos evaluar la varianza entre grupos de forma gráfica."
   ]
  },
  {
   "cell_type": "code",
   "execution_count": 34,
   "id": "ff07eaba",
   "metadata": {},
   "outputs": [
    {
     "data": {
      "text/plain": [
       "<Axes: xlabel='accuracy', ylabel='Density'>"
      ]
     },
     "execution_count": 34,
     "metadata": {},
     "output_type": "execute_result"
    },
    {
     "data": {
      "image/png": "[encoded data removed]",
      "text/plain": [
       "<Figure size 1200x400 with 2 Axes>"
      ]
     },
     "metadata": {},
     "output_type": "display_data"
    }
   ],
   "source": [
    "import seaborn as sns\n",
    "\n",
    "plt.figure(figsize=(12,4))\n",
    "plt.subplot(1,2,1)\n",
    "sns.boxplot(data=gray_ch, x=\"model\", y=\"accuracy\")\n",
    "plt.subplot(1,2,2)\n",
    "sns.kdeplot(data=gray_ch, hue=\"model\", x=\"accuracy\")"
   ]
  },
  {
   "cell_type": "markdown",
   "id": "e2221f04",
   "metadata": {},
   "source": [
    "### Kruskal-Wallis\n",
    "\n",
    "La prueba de Kruskal-Wallis es una prueba no paramétrica utilizada para determinar si hay diferencias significativas entre tres o más grupos independientes en una variable ordinal o continua. Se utiliza como una alternativa a la prueba de ANOVA cuando los datos no cumplen con los supuestos de normalidad y homogeneidad de varianza necesarios para la prueba de ANOVA.\n",
    "\n",
    "La prueba de Kruskal-Wallis clasifica los valores de la variable dependiente en cada grupo y luego evalúa si las medianas de estos rangos son significativamente diferentes entre los grupos. Si el valor p obtenido es menor que un nivel de significancia predefinido (generalmente 0.05), se rechaza la hipótesis nula y se concluye que hay al menos una diferencia significativa entre\n",
    "\n",
    "La prueba de Kruskal-Wallis utiliza los rangos de las observaciones dentro de cada grupo para determinar si las medianas de estos rangos son iguales o diferentes entre los grupos. Aquí está la descripción matemática de la prueba:\n",
    "\n",
    "1. **Hipótesis nula (H0):** Las medianas de los grupos son iguales.\n",
    "2. **Hipótesis alternativa (H1):** Al menos una mediana de grupo es diferente de las demás.\n",
    "\n",
    "El estadístico de la prueba se calcula de la siguiente manera:\n",
    "\n",
    "$$\n",
    "H = \\frac{{12}}{{N(N+1)}} \\left[ \\sum_{i=1}^{k} \\frac{{R_i^2}}{{n_i}} \\right] - 3(N+1)\n",
    "$$\n",
    "\n",
    "Donde:\n",
    "- $ H $ es el estadístico de la prueba.\n",
    "- $ N $ es el número total de observaciones en todos los grupos combinados.\n",
    "- $ k $ es el número de grupos.\n",
    "- $ R_i $ es la suma de los rangos de los elementos del grupo $ i $.\n",
    "- $ n_i $ es el tamaño del grupo $ i $.\n",
    "\n",
    "El estadístico $ H $ sigue una distribución chi-cuadrado con $ k - 1 $ grados de libertad. Se compara el valor $ H $ calculado con el valor crítico de la distribución chi-cuadrado para determinar si se rechaza la hipótesis nula.\n",
    "\n",
    "El valor $ p $ se calcula a partir del estadístico $ H $ y se compara con el nivel de significancia predefinido para tomar una decisión sobre la hipótesis nula. Si el valor $ p $ es menor que el nivel de significancia, se rechaza la hipótesis nula y se concluye que hay al menos una diferencia significativa entre las medianas de los grupos."
   ]
  },
  {
   "cell_type": "code",
   "execution_count": 35,
   "id": "4c1abce0",
   "metadata": {},
   "outputs": [
    {
     "data": {
      "text/plain": [
       "KruskalResult(statistic=22.300037807183358, pvalue=5.649482897910132e-05)"
      ]
     },
     "execution_count": 35,
     "metadata": {},
     "output_type": "execute_result"
    }
   ],
   "source": [
    "stats.kruskal(gray_ch['accuracy'][gray_ch['model'] == 'RFC'],\n",
    "              gray_ch['accuracy'][gray_ch['model'] == 'RFR'],\n",
    "              gray_ch['accuracy'][gray_ch['model'] == 'XGBC'],\n",
    "              gray_ch['accuracy'][gray_ch['model'] == 'XGBR'])"
   ]
  },
  {
   "cell_type": "markdown",
   "id": "7183f78e",
   "metadata": {},
   "source": [
    "La salida de la prueba de Kruskal-Wallis proporciona dos valores importantes:\n",
    "\n",
    "1. **Estadístico de prueba (H):** En este caso, el estadístico de prueba es 22.30.\n",
    "   - Este valor indica la magnitud de la diferencia entre los grupos en términos de sus rangos de observaciones. Valores más altos indican una mayor diferencia entre los grupos.\n",
    "   \n",
    "2. **Valor p (p-value):** El valor $p$ asociado con el estadístico de prueba es $5.65 \\times 10^{-5}$.\n",
    "   - Este valor representa la probabilidad de observar el estadístico de prueba calculado, o uno más extremo, bajo la hipótesis nula de que las medianas de los grupos son iguales.\n",
    "   - Si el valor p es menor que el nivel de significancia elegido (por ejemplo, 0.05), se rechaza la hipótesis nula en favor de la alternativa, lo que indica que al menos un grupo difiere significativamente de los demás.\n",
    "\n",
    "En este caso, el valor $p$ es extremadamente bajo, lo que sugiere que hay evidencia suficiente para rechazar la hipótesis nula. Por lo tanto, podemos concluir que al menos uno de los grupos tiene una mediana diferente de los demás.\n",
    "\n",
    "### Post Hoc Dunn test\n",
    "\n",
    "El Dunn test, también conocido como prueba de comparaciones múltiples de Dunn, es una prueba no paramétrica utilizada para realizar comparaciones múltiples entre grupos después de encontrar una diferencia significativa en un análisis de varianza no paramétrico, como el test de Kruskal-Wallis. Esta prueba ayuda a identificar cuáles grupos difieren significativamente entre sí después de rechazar la hipótesis nula en el análisis de Kruskal-Wallis.\n",
    "\n",
    "Aquí hay una breve explicación de cómo funciona el Dunn test:\n",
    "\n",
    "1. **Rangos de observación:** Primero, se asignan rangos a todas las observaciones de los grupos combinados. Esto se hace independientemente de a qué grupo pertenezca cada observación.\n",
    "\n",
    "2. **Cálculo de las diferencias de rangos:** Luego, se calculan las diferencias de rangos entre todas las parejas de observaciones.\n",
    "\n",
    "3. **Ajuste de rangos:** Los rangos se ajustan para tener en cuenta el tamaño de las muestras y se suman para cada grupo.\n",
    "\n",
    "4. **Cálculo de las diferencias promedio de rangos:** Se calculan las diferencias promedio de rangos entre cada par de grupos.\n",
    "\n",
    "5. **Corrección de Bonferroni:** Finalmente, se aplica una corrección de Bonferroni para ajustar los valores p obtenidos de las comparaciones múltiples.\n",
    "\n",
    "El Dunn test es una herramienta útil para identificar qué grupos difieren significativamente entre sí después de encontrar una diferencia global significativa en un análisis de varianza no paramétrico. Es especialmente útil cuando se tienen más de dos grupos y se necesita determinar exactamente cuáles difieren entre sí.\n",
    "\n",
    "**Requisitos**\n",
    "\n",
    "```Python\n",
    "!pip install scikit_posthocs\n",
    "```"
   ]
  },
  {
   "cell_type": "code",
   "execution_count": 45,
   "id": "e9e512cd",
   "metadata": {},
   "outputs": [
    {
     "data": {
      "text/html": [
       "<div>\n",
       "<style scoped>\n",
       "    .dataframe tbody tr th:only-of-type {\n",
       "        vertical-align: middle;\n",
       "    }\n",
       "\n",
       "    .dataframe tbody tr th {\n",
       "        vertical-align: top;\n",
       "    }\n",
       "\n",
       "    .dataframe thead th {\n",
       "        text-align: right;\n",
       "    }\n",
       "</style>\n",
       "<table border=\"1\" class=\"dataframe\">\n",
       "  <thead>\n",
       "    <tr style=\"text-align: right;\">\n",
       "      <th></th>\n",
       "      <th>RFC</th>\n",
       "      <th>RFR</th>\n",
       "      <th>XGBC</th>\n",
       "      <th>XGBR</th>\n",
       "    </tr>\n",
       "  </thead>\n",
       "  <tbody>\n",
       "    <tr>\n",
       "      <th>RFC</th>\n",
       "      <td>1.000000</td>\n",
       "      <td>0.048363</td>\n",
       "      <td>1.000000</td>\n",
       "      <td>0.001841</td>\n",
       "    </tr>\n",
       "    <tr>\n",
       "      <th>RFR</th>\n",
       "      <td>0.048363</td>\n",
       "      <td>1.000000</td>\n",
       "      <td>0.021115</td>\n",
       "      <td>1.000000</td>\n",
       "    </tr>\n",
       "    <tr>\n",
       "      <th>XGBC</th>\n",
       "      <td>1.000000</td>\n",
       "      <td>0.021115</td>\n",
       "      <td>1.000000</td>\n",
       "      <td>0.000631</td>\n",
       "    </tr>\n",
       "    <tr>\n",
       "      <th>XGBR</th>\n",
       "      <td>0.001841</td>\n",
       "      <td>1.000000</td>\n",
       "      <td>0.000631</td>\n",
       "      <td>1.000000</td>\n",
       "    </tr>\n",
       "  </tbody>\n",
       "</table>\n",
       "</div>"
      ],
      "text/plain": [
       "           RFC       RFR      XGBC      XGBR\n",
       "RFC   1.000000  0.048363  1.000000  0.001841\n",
       "RFR   0.048363  1.000000  0.021115  1.000000\n",
       "XGBC  1.000000  0.021115  1.000000  0.000631\n",
       "XGBR  0.001841  1.000000  0.000631  1.000000"
      ]
     },
     "execution_count": 45,
     "metadata": {},
     "output_type": "execute_result"
    }
   ],
   "source": [
    "import scikit_posthocs as sp\n",
    "\n",
    "data = [gray_ch['accuracy'][gray_ch['model'] == 'RFC'],\n",
    "        gray_ch['accuracy'][gray_ch['model'] == 'RFR'],\n",
    "        gray_ch['accuracy'][gray_ch['model'] == 'XGBC'],\n",
    "        gray_ch['accuracy'][gray_ch['model'] == 'XGBR']]\n",
    "            \n",
    "dunn_result = sp.posthoc_dunn(data, p_adjust = 'bonferroni')\n",
    "dunn_result.columns = ['RFC', 'RFR', 'XGBC', 'XGBR']\n",
    "dunn_result.index = ['RFC', 'RFR', 'XGBC', 'XGBR']\n",
    "dunn_result"
   ]
  },
  {
   "cell_type": "markdown",
   "id": "5440f0fc",
   "metadata": {},
   "source": [
    "La tabla de salida de `sp.posthoc_dunn` proporciona los valores de p corregidos después de realizar comparaciones múltiples entre todos los pares de grupos utilizando el Dunn test. Aquí hay una guía para interpretar esta tabla:\n",
    "\n",
    "- **Filas y columnas:** Cada fila y columna representa un grupo diferente o una combinación de grupos.\n",
    "- **Celda de intersección:** Cada celda de la tabla muestra el valor p corregido que resulta de comparar los grupos en la fila con los grupos en la columna correspondiente.\n",
    "- **Valores p corregidos:** Los valores p corregidos indican la significancia estadística de la diferencia entre los grupos comparados. Un valor p menor que el nivel de significancia predeterminado (generalmente 0.05) sugiere que hay una diferencia significativa entre los grupos comparados.\n",
    "\n",
    "Para interpretar la tabla:\n",
    "- Busca valores p significativamente bajos (generalmente < 0.05) en la tabla, lo que indica diferencias significativas entre los grupos correspondientes.\n",
    "- Cuando encuentres un valor p significativo, identifica qué grupos están involucrados en la comparación mirando los encabezados de filas y columnas.\n",
    "\n",
    "La tabla de salida del Dunn test te permite identificar qué grupos difieren significativamente entre sí después de realizar comparaciones múltiples, lo que ayuda a comprender mejor las diferencias en tus datos entre los grupos analizados.\n",
    "\n",
    "- **Discute:** Cuales modelos "
   ]
  },
  {
   "cell_type": "code",
   "execution_count": null,
   "id": "d5dcaae9",
   "metadata": {},
   "outputs": [],
   "source": []
  }
 ],
 "metadata": {
  "kernelspec": {
   "display_name": "Python 3 (ipykernel)",
   "language": "python",
   "name": "python3"
  },
  "language_info": {
   "codemirror_mode": {
    "name": "ipython",
    "version": 3
   },
   "file_extension": ".py",
   "mimetype": "text/x-python",
   "name": "python",
   "nbconvert_exporter": "python",
   "pygments_lexer": "ipython3",
   "version": "3.11.5"
  }
 },
 "nbformat": 4,
 "nbformat_minor": 5
}
